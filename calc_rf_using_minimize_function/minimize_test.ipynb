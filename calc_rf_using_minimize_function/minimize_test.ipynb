{
 "cells": [
  {
   "cell_type": "code",
   "execution_count": 45,
   "metadata": {},
   "outputs": [],
   "source": [
    "import numpy as np\n",
    "import math\n",
    "from scipy.optimize import minimize\n",
    "import pandas as pd"
   ]
  },
  {
   "cell_type": "code",
   "execution_count": 46,
   "metadata": {},
   "outputs": [],
   "source": [
    "r_layer = np.array(\n",
    "    [\n",
    "        0.0431818181818182,\n",
    "        17.7692400386911,\n",
    "        0.09\n",
    "    ]\n",
    ")\n",
    "\n",
    "c_layer = np.array(\n",
    "    [\n",
    "        7.885,\n",
    "        7.10769601547645,\n",
    "        0.0\n",
    "    ]\n",
    ") * 1000.0\n",
    "\n",
    "c_layer = np.array([\n",
    "    10375.0,\n",
    "    0.0,\n",
    "    10375.0,\n",
    "    0.0\n",
    "])\n",
    "\n",
    "r_layer = np.array([\n",
    "    0.0568,\n",
    "    0.09,\n",
    "    0.0568,\n",
    "    0.120289612356129\n",
    "])"
   ]
  },
  {
   "cell_type": "code",
   "execution_count": 47,
   "metadata": {},
   "outputs": [],
   "source": [
    "# 伝達関数の計算\n",
    "def calc_transfer_function(C_i_k_p: np.ndarray, R_i_k_p: np.ndarray, laps: float) -> (float, float):\n",
    "\n",
    "    \"\"\"\n",
    "\n",
    "    Args:\n",
    "        C_i_k_p: 層の熱容量[J/m2K]\n",
    "        R_i_k_p: 層の熱抵抗[m2K/W]\n",
    "        laps: ラプラス変数[1/s]\n",
    "\n",
    "    Returns:\n",
    "        貫流伝達関数[K]\n",
    "        吸熱伝達関数[K]\n",
    "    \"\"\"\n",
    "\n",
    "    # 四端子行列の初期化\n",
    "    matFt = np.identity(2, dtype=float)\n",
    "\n",
    "    for lngK, (R_k, C_k) in enumerate(zip(R_i_k_p, C_i_k_p)):\n",
    "\n",
    "        # ---- 四端子基本行列 matFi ----\n",
    "        if abs(C_k) < 0.001:\n",
    "            # 定常部位（空気層等）の場合\n",
    "            matFi = np.array([\n",
    "                [1.0, R_k],\n",
    "                [0.0, 1.0]\n",
    "            ])\n",
    "        else:\n",
    "            # 非定常部位の場合\n",
    "            dblTemp = np.sqrt(R_k * C_k * laps)\n",
    "            dblCosh = np.cosh(dblTemp)\n",
    "            dblSinh = np.sinh(dblTemp)\n",
    "\n",
    "            matFi = np.array([\n",
    "                [dblCosh, R_k / dblTemp * dblSinh],\n",
    "                [dblTemp / R_k * dblSinh, dblCosh]\n",
    "            ])\n",
    "\n",
    "        # print('[Fi(', lngK, ')]')\n",
    "        # print(matFi)\n",
    "\n",
    "        # ---- 四端子行列 matFt ----\n",
    "        matFt = np.dot(matFt, matFi)\n",
    "\n",
    "    # print('martFt')\n",
    "    # print(matFt)\n",
    "\n",
    "    # 吸熱、貫流の各伝達関数ベクトルの作成\n",
    "    GA = matFt[0, 1] / matFt[1, 1]\n",
    "    GT = 1.0 / matFt[1][1]\n",
    "\n",
    "    return (GA, GT)"
   ]
  },
  {
   "cell_type": "code",
   "execution_count": 48,
   "metadata": {},
   "outputs": [],
   "source": [
    "a0 = 1.0\n",
    "b0 = np.sum(r_layer)\n",
    "alpha_m = np.logspace(np.log10(1.0 / (86400.0 * 365.0)), np.log10(1.0 / 900.0), 10)\n",
    "alpha_m_temp = alpha_m\n",
    "nroot = len(alpha_m)"
   ]
  },
  {
   "cell_type": "code",
   "execution_count": 49,
   "metadata": {},
   "outputs": [],
   "source": [
    "# 実際に応答係数計算に使用する固定根を選定する\n",
    "GA = np.zeros_like(alpha_m_temp, dtype=float)\n",
    "GT = np.zeros_like(alpha_m_temp, dtype=float)"
   ]
  },
  {
   "cell_type": "code",
   "execution_count": 50,
   "metadata": {},
   "outputs": [
    {
     "name": "stdout",
     "output_type": "stream",
     "text": [
      "GA= [0.32385344 0.32377395 0.32351998 0.32271061 0.32015169 0.31226079\n",
      " 0.28968495 0.23682033 0.15495297 0.08262635]\n",
      "GT= [0.99985389 0.99953279 0.99850694 0.995238   0.98490619 0.95307897\n",
      " 0.86232438 0.65215001 0.33904723 0.09891954]\n"
     ]
    }
   ],
   "source": [
    "# 固定根をラプラスパラメータとして伝達関数を計算\n",
    "for i, lap in enumerate(alpha_m_temp):\n",
    "    (GA[i], GT[i]) = calc_transfer_function(C_i_k_p=c_layer, R_i_k_p=r_layer, laps=lap)\n",
    "\n",
    "print('GA=', GA)\n",
    "print('GT=', GT)"
   ]
  },
  {
   "cell_type": "code",
   "execution_count": 51,
   "metadata": {},
   "outputs": [],
   "source": [
    "GT2 = np.zeros(nroot + 2, dtype=float)\n",
    "# 配列0に定常の伝達関数を入力\n",
    "GT2[0] = 1.0\n",
    "# 配列の最後にs=∞の伝達関数を入力\n",
    "GT2[nroot - 1] = 0.0\n",
    "# それ以外に計算した伝達関数を代入\n",
    "for i in range(nroot):\n",
    "    GT2[i + 1] = GT[i]\n",
    "\n",
    "# 採用する固定根の場合1\n",
    "is_adopts = np.zeros(nroot, dtype=int)\n",
    "i = 0\n",
    "while i <= nroot + 1:\n",
    "    for j in range(i + 1, nroot + 1):\n",
    "        # 伝達関数が3%以上変化した根だけ採用する\n",
    "        if math.fabs(GT2[j] - GT2[i]) > 1.0 * 0.03:\n",
    "            is_adopts[j - 1] = 1\n",
    "            i = j - 1\n",
    "            break\n",
    "    i += 1\n",
    "\n",
    "# 採用する根を数える\n",
    "adopt_nroot = sum(is_adopts)\n",
    "\n",
    "# 不採用の固定根を削除\n",
    "for i, adopts in enumerate(reversed(is_adopts)):\n",
    "    if adopts == 0:\n",
    "        alpha_m_temp = np.delete(alpha_m_temp, nroot - i - 1)"
   ]
  },
  {
   "cell_type": "code",
   "execution_count": 52,
   "metadata": {},
   "outputs": [],
   "source": [
    "# ラプラス変数の設定\n",
    "def get_laps(alp: np.ndarray) -> np.ndarray:\n",
    "    \"\"\"\n",
    "    :param alp: 固定根\n",
    "    :return: ラプラス変数の配列\n",
    "    \"\"\"\n",
    "    n = len(alp) * 2  # 与えるラプラス変数の個数\n",
    "    laps = [None] * n  # ラプラス変数の配列\n",
    "\n",
    "    for i in range(1, n + 1):\n",
    "        if i % 2 == 0:\n",
    "            # 偶数番目はαをそのまま入力\n",
    "            laps[i - 1] = alp[int((i - 1) / 2)]\n",
    "        elif i == 1:\n",
    "            # 最初はα1/√(α2/α1）とする\n",
    "            laps[i - 1] = alp[0] / math.sqrt(alp[1] / alp[0])\n",
    "        else:\n",
    "            # それ以外は等比数列で補間\n",
    "            lngL = math.ceil((i - 1) / 2)\n",
    "            laps[i - 1] = alp[lngL] / math.sqrt(alp[lngL] / alp[lngL - 1])\n",
    "\n",
    "    return np.array(laps)"
   ]
  },
  {
   "cell_type": "code",
   "execution_count": 53,
   "metadata": {},
   "outputs": [],
   "source": [
    "# ラプラス変数の設定\n",
    "laps = get_laps(alpha_m_temp)"
   ]
  },
  {
   "cell_type": "code",
   "execution_count": 54,
   "metadata": {},
   "outputs": [],
   "source": [
    "# 貫流単位応答の下限値と上限値を保証する制約関数\n",
    "def phi_t(x, t):\n",
    "    phi = np.zeros(len(t))\n",
    "    for i, ti in enumerate(t):\n",
    "        phi[i] = a0 + np.sum(x * np.exp(-alpha_m_temp * ti * 900))\n",
    "\n",
    "    return phi"
   ]
  },
  {
   "cell_type": "code",
   "execution_count": 55,
   "metadata": {},
   "outputs": [],
   "source": [
    "# 吸熱単位応答の下限値と上限値を保証する制約関数\n",
    "def phi_a(x, t):\n",
    "    phi = np.zeros(len(t))\n",
    "    for i, ti in enumerate(t):\n",
    "        phi[i] = b0 + np.sum(x * np.exp(-alpha_m_temp * ti * 900))\n",
    "    \n",
    "    return phi"
   ]
  },
  {
   "cell_type": "code",
   "execution_count": 56,
   "metadata": {},
   "outputs": [],
   "source": [
    "# x1 + x2 + x3 + x4 ・・・ + Y =0 制約\n",
    "# 貫流応答用\n",
    "def sum_constraint_t(x):\n",
    "    return np.sum(x) + a0\n",
    "\n",
    "# 吸熱応答用\n",
    "def sum_constraint_a(x):\n",
    "    return np.sum(x) + b0"
   ]
  },
  {
   "cell_type": "code",
   "execution_count": 57,
   "metadata": {},
   "outputs": [],
   "source": [
    "# tの範囲を離散的な点に分割\n",
    "t_values = np.linspace(0, 2000, num=2000)\n"
   ]
  },
  {
   "cell_type": "code",
   "execution_count": 58,
   "metadata": {},
   "outputs": [],
   "source": [
    "# tに対する単位応答の微分が0以上であることを保証する制約関数\n",
    "def diff_phi(x, t):\n",
    "    diff = np.zeros_like(t)\n",
    "    for i, ti in enumerate(t):\n",
    "        diff[i] = np.sum(-alpha_m_temp * x * np.exp(-alpha_m_temp * ti * 900))\n",
    "    \n",
    "    return diff\n"
   ]
  },
  {
   "cell_type": "code",
   "execution_count": 59,
   "metadata": {},
   "outputs": [],
   "source": [
    "# 制約の追加\n",
    "cons_t = [\n",
    "        {\n",
    "            'type': 'eq',\n",
    "            'fun': sum_constraint_t\n",
    "        },\n",
    "        {\n",
    "            'type': 'ineq',\n",
    "            'fun': lambda x, t=t_values: phi_t(x, t) - 0  # g(x, s) >= 0\n",
    "        },\n",
    "        {\n",
    "            'type': 'ineq',\n",
    "            'fun': lambda x, t=t_values: a0 - phi_t(x, t)  # g(x, s) <= 1\n",
    "        },\n",
    "        {\n",
    "            'type': 'ineq',\n",
    "            'fun': lambda x, t=t_values: diff_phi(x, t) - 0  # dg(x, s) >= 0\n",
    "        }\n",
    "    ]\n",
    "\n",
    "cons_a = [\n",
    "        {\n",
    "            'type': 'eq',\n",
    "            'fun': sum_constraint_a\n",
    "        },\n",
    "        {\n",
    "            'type': 'ineq',\n",
    "            'fun': lambda x, t=t_values: phi_a(x, t) - 0  # g(x, s) >= 0\n",
    "        },\n",
    "        {\n",
    "            'type': 'ineq',\n",
    "            'fun': lambda x, t=t_values: b0 - phi_a(x, t)  # g(x, s) <= b0\n",
    "        },\n",
    "        {\n",
    "            'type': 'ineq',\n",
    "            'fun': lambda x, t=t_values: diff_phi(x, t) - 0  # dg(x, s) >= 0\n",
    "        }\n",
    "    ]"
   ]
  },
  {
   "cell_type": "code",
   "execution_count": 60,
   "metadata": {},
   "outputs": [],
   "source": [
    "# 伝達関数の係数を求めるための左辺行列を作成\n",
    "mat_f = np.zeros((len(laps), len(alpha_m_temp)))\n",
    "for i, lap in enumerate(laps):\n",
    "    for j, root in enumerate(alpha_m_temp):\n",
    "        mat_f[i, j] = lap / (lap + root)"
   ]
  },
  {
   "cell_type": "code",
   "execution_count": 61,
   "metadata": {},
   "outputs": [
    {
     "name": "stdout",
     "output_type": "stream",
     "text": [
      "[-0.02671742 -0.04692103 -0.08129188 -0.13767562 -0.22484294 -0.34784999\n",
      " -0.50041458 -0.66095277 -0.8009489  -0.90108046]\n",
      "[-0.00661831 -0.01162882 -0.02016499 -0.03420467 -0.05601397 -0.08706928\n",
      " -0.12626155 -0.16893664 -0.2087654  -0.24126326]\n"
     ]
    }
   ],
   "source": [
    "# 定数行列の作成\n",
    "mat_gt = np.zeros(len(laps))\n",
    "mat_ga = np.zeros(len(laps))\n",
    "\n",
    "for i, lap in enumerate(laps):\n",
    "\n",
    "    # 伝達関数の計算\n",
    "    (ga_value, gt_value) = calc_transfer_function(C_i_k_p=c_layer, R_i_k_p=r_layer, laps=lap)\n",
    "\n",
    "    mat_gt[i] = gt_value - a0\n",
    "    mat_ga[i] = ga_value - b0\n",
    "\n",
    "print(mat_gt)\n",
    "print(mat_ga)"
   ]
  },
  {
   "cell_type": "code",
   "execution_count": 62,
   "metadata": {},
   "outputs": [],
   "source": [
    "def calc_error_t(x):\n",
    "\n",
    "    error = np.sum((mat_gt - np.sum(mat_f * x, axis=1)) ** 2, axis=0)\n",
    "    # print(error)\n",
    "    return error\n",
    "\n",
    "def calc_error_a(x):\n",
    "    \n",
    "    error = np.sum((mat_ga - np.sum(mat_f * x, axis=1)) ** 2, axis=0)\n",
    "    # print(error)\n",
    "    return error"
   ]
  },
  {
   "cell_type": "code",
   "execution_count": 63,
   "metadata": {},
   "outputs": [
    {
     "name": "stdout",
     "output_type": "stream",
     "text": [
      " message: Optimization terminated successfully\n",
      " success: True\n",
      "  status: 0\n",
      "     fun: 0.014911431027220612\n",
      "       x: [-2.000e-01  1.707e-01 -1.303e-01 -1.183e+00  3.424e-01]\n",
      "     nit: 14\n",
      "     jac: [-2.551e-01 -1.241e-01 -2.014e-02  2.523e-02  2.531e-02]\n",
      "    nfev: 91\n",
      "    njev: 14\n"
     ]
    }
   ],
   "source": [
    "# 最適化の実行\n",
    "\n",
    "# 初期値\n",
    "xt0 = np.full(len(alpha_m_temp), -a0 / len(alpha_m_temp), float)\n",
    "\n",
    "result_t = minimize(calc_error_t, xt0, method='SLSQP', constraints=cons_t, tol=1.0e-8)\n",
    "\n",
    "print(result_t)"
   ]
  },
  {
   "cell_type": "code",
   "execution_count": 64,
   "metadata": {},
   "outputs": [
    {
     "name": "stdout",
     "output_type": "stream",
     "text": [
      " message: Optimization terminated successfully\n",
      " success: True\n",
      "  status: 0\n",
      "     fun: 0.0015098844767953371\n",
      "       x: [-6.478e-02  5.577e-02 -4.406e-02 -2.020e-01 -6.886e-02]\n",
      "     nit: 9\n",
      "     jac: [-7.992e-02 -3.849e-02 -6.346e-03  6.911e-03  6.654e-03]\n",
      "    nfev: 56\n",
      "    njev: 9\n"
     ]
    }
   ],
   "source": [
    "# 初期値\n",
    "xa0 = np.full(len(alpha_m_temp), -b0 / len(alpha_m_temp), float)\n",
    "\n",
    "result_a = minimize(calc_error_a, xa0, method='SLSQP', constraints=cons_a, tol=1.0e-5)\n",
    "\n",
    "print(result_a)"
   ]
  },
  {
   "cell_type": "code",
   "execution_count": 65,
   "metadata": {},
   "outputs": [
    {
     "data": {
      "text/plain": [
       "<Axes: xlabel='x', ylabel='phi_t'>"
      ]
     },
     "execution_count": 65,
     "metadata": {},
     "output_type": "execute_result"
    },
    {
     "data": {
      "image/png": "[encoded data removed]",
      "text/plain": [
       "<Figure size 640x480 with 1 Axes>"
      ]
     },
     "metadata": {},
     "output_type": "display_data"
    }
   ],
   "source": [
    "phi_t = phi_t(x=result_t.x, t=t_values)\n",
    "\n",
    "df_t = pd.DataFrame(columns=['x', 'phi_t'])\n",
    "df_t['x'] = t_values\n",
    "df_t['phi_t'] = phi_t\n",
    "\n",
    "\n",
    "df_t.plot.scatter(x='x', y='phi_t', s=5, grid=True)"
   ]
  },
  {
   "cell_type": "code",
   "execution_count": 66,
   "metadata": {},
   "outputs": [
    {
     "data": {
      "text/plain": [
       "<Axes: xlabel='x', ylabel='phi_a'>"
      ]
     },
     "execution_count": 66,
     "metadata": {},
     "output_type": "execute_result"
    },
    {
     "data": {
      "image/png": "[encoded data removed]",
      "text/plain": [
       "<Figure size 640x480 with 1 Axes>"
      ]
     },
     "metadata": {},
     "output_type": "display_data"
    }
   ],
   "source": [
    "phi_a = phi_a(x=result_a.x, t=t_values)\n",
    "\n",
    "df_a = pd.DataFrame(columns=['x', 'phi_a'])\n",
    "df_a['x'] = t_values\n",
    "df_a['phi_a'] = phi_a\n",
    "\n",
    "\n",
    "df_a.plot.scatter(x='x', y='phi_a', s=5, grid=True)"
   ]
  }
 ],
 "metadata": {
  "kernelspec": {
   "display_name": "base",
   "language": "python",
   "name": "python3"
  },
  "language_info": {
   "codemirror_mode": {
    "name": "ipython",
    "version": 3
   },
   "file_extension": ".py",
   "mimetype": "text/x-python",
   "name": "python",
   "nbconvert_exporter": "python",
   "pygments_lexer": "ipython3",
   "version": "3.11.5"
  }
 },
 "nbformat": 4,
 "nbformat_minor": 2
}
